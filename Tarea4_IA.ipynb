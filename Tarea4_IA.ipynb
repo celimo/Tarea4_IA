{
  "nbformat": 4,
  "nbformat_minor": 0,
  "metadata": {
    "colab": {
      "name": "Tarea4_IA.ipynb",
      "provenance": [],
      "collapsed_sections": [],
      "authorship_tag": "ABX9TyOixfSPQOGj5HAUnENWK36w",
      "include_colab_link": true
    },
    "kernelspec": {
      "name": "python3",
      "display_name": "Python 3"
    },
    "language_info": {
      "name": "python"
    }
  },
  "cells": [
    {
      "cell_type": "markdown",
      "metadata": {
        "id": "view-in-github",
        "colab_type": "text"
      },
      "source": [
        "<a href=\"https://colab.research.google.com/github/celimo/Tarea4_IA/blob/main/Tarea4_IA.ipynb\" target=\"_parent\"><img src=\"https://colab.research.google.com/assets/colab-badge.svg\" alt=\"Open In Colab\"/></a>"
      ]
    },
    {
      "cell_type": "code",
      "metadata": {
        "colab": {
          "base_uri": "https://localhost:8080/"
        },
        "id": "lv0O5uc4cdLl",
        "outputId": "f97149cd-fe74-48b0-cae2-0bfee1f482c4"
      },
      "source": [
        "pip install control"
      ],
      "execution_count": 1,
      "outputs": [
        {
          "output_type": "stream",
          "text": [
            "Requirement already satisfied: control in /usr/local/lib/python3.7/dist-packages (0.9.0)\n",
            "Requirement already satisfied: numpy in /usr/local/lib/python3.7/dist-packages (from control) (1.19.5)\n",
            "Requirement already satisfied: scipy in /usr/local/lib/python3.7/dist-packages (from control) (1.4.1)\n",
            "Requirement already satisfied: matplotlib in /usr/local/lib/python3.7/dist-packages (from control) (3.2.2)\n",
            "Requirement already satisfied: pyparsing!=2.0.4,!=2.1.2,!=2.1.6,>=2.0.1 in /usr/local/lib/python3.7/dist-packages (from matplotlib->control) (2.4.7)\n",
            "Requirement already satisfied: cycler>=0.10 in /usr/local/lib/python3.7/dist-packages (from matplotlib->control) (0.10.0)\n",
            "Requirement already satisfied: kiwisolver>=1.0.1 in /usr/local/lib/python3.7/dist-packages (from matplotlib->control) (1.3.1)\n",
            "Requirement already satisfied: python-dateutil>=2.1 in /usr/local/lib/python3.7/dist-packages (from matplotlib->control) (2.8.1)\n",
            "Requirement already satisfied: six in /usr/local/lib/python3.7/dist-packages (from cycler>=0.10->matplotlib->control) (1.15.0)\n"
          ],
          "name": "stdout"
        }
      ]
    },
    {
      "cell_type": "code",
      "metadata": {
        "id": "OFHGzTO-pEpp"
      },
      "source": [
        "import control as co # Trabajar sistemas de control\n",
        "from control.matlab import * # Utilizar un entorno similar al de matlab\n",
        "import numpy as np # Trabajar con matrices\n",
        "import matplotlib.pyplot as plt # Imprimir resultados\n",
        "import random # Generar números aleatorios"
      ],
      "execution_count": 2,
      "outputs": []
    },
    {
      "cell_type": "code",
      "metadata": {
        "id": "3QuzKrZ0c2jr"
      },
      "source": [
        "\" Definición de la función de transferencia del sistema \"\n",
        "\n",
        "def fun_Tran(Inp):\n",
        "  s = tf('s')\n",
        "\n",
        "  A = Inp[0]\n",
        "  B = Inp[1]\n",
        "  C = Inp[2]\n",
        "  D2 = Inp[3][0]\n",
        "  F = Inp[4]\n",
        "  K = Inp[5]\n",
        "\n",
        "  G1 = (A[0]) / (B[0]*s**2 + B[0]*C[0]*s)\n",
        "  G2 = (A[1]*s) / (B[1]*s**2 + B[1]*C[1] + D2)\n",
        "  G3 = (A[2]*s**2 + A[2]*C[2]*s) / (B[2])\n",
        "\n",
        "  H1 = F[0]*K[0]*s + K[0]\n",
        "  H2 = F[1]*K[1]*s**2 + K[1]*s\n",
        "  H3 = K[2]*s \n",
        "\n",
        "  num = G1*G2*G3 + G1*H1*G3\n",
        "  den = 1 + G1*G2*G3 + G2*H2 + G2*H3 + H1*H3 + G1*H1*G3\n",
        "\n",
        "  funct = num/den\n",
        "\n",
        "  return funct"
      ],
      "execution_count": 3,
      "outputs": []
    },
    {
      "cell_type": "code",
      "metadata": {
        "colab": {
          "base_uri": "https://localhost:8080/",
          "height": 371
        },
        "id": "AdOSM9Xdo7b3",
        "outputId": "12c54a48-220b-46ef-8998-e09a13b12ded"
      },
      "source": [
        "Cm = []\n",
        "\n",
        "Cm.append([1,2,3])\n",
        "Cm.append([4,5,6])\n",
        "Cm.append([7,8,9])\n",
        "Cm.append([10])\n",
        "Cm.append([11,12])\n",
        "Cm.append([13,14,15])\n",
        "\n",
        "sys = fun_Tran(Cm)\n",
        "\n",
        "print(sys)\n",
        "\n",
        "t = np.linspace(0, 400, 1000)\n",
        "t1, y1 = co.step_response(sys, t)\n",
        "\n",
        "plt.plot(t1, y1)\n",
        "plt.grid()\n",
        "plt.show()"
      ],
      "execution_count": 4,
      "outputs": [
        {
          "output_type": "stream",
          "text": [
            "\n",
            "         3.707e+09 s^17 + 1.115e+11 s^16 + 1.404e+12 s^15 + 1.075e+13 s^14 + 6.445e+13 s^13 + 3.195e+14 s^12 + 1.248e+15 s^11 + 4.261e+15 s^10 + 1.226e+16 s^9 + 2.69e+16 s^8 + 6.058e+16 s^7 + 6.706e+16 s^6 + 1.201e+17 s^5 + 1.04e+16 s^4\n",
            "------------------------------------------------------------------------------------------------------------------------------------------------------------------------------------------------------------------------------------------------------\n",
            "4.448e+11 s^18 + 1.251e+13 s^17 + 1.502e+14 s^16 + 1.128e+15 s^15 + 6.709e+15 s^14 + 3.271e+16 s^13 + 1.269e+17 s^12 + 4.308e+17 s^11 + 1.217e+18 s^10 + 2.699e+18 s^9 + 5.862e+18 s^8 + 6.708e+18 s^7 + 1.131e+19 s^6 + 1.094e+18 s^5 + 1.538e+16 s^4\n",
            "\n"
          ],
          "name": "stdout"
        },
        {
          "output_type": "display_data",
          "data": {
            "image/png": "[encoded data removed]",
            "text/plain": [
              "<Figure size 432x288 with 1 Axes>"
            ]
          },
          "metadata": {
            "tags": [],
            "needs_background": "light"
          }
        }
      ]
    },
    {
      "cell_type": "code",
      "metadata": {
        "id": "TEcDYXm6pAfX"
      },
      "source": [
        "'''\n",
        "Definición del cromosoma\n",
        "\n",
        "Cromosoma = [[A1, A2, A3], [B1, B2, B3], [C1, C2, C3], [D2], [F1, F2], [K1, K2, K3]]\n",
        "\n",
        "Definición del gen: Cada elemento del cromosoma es un vector con dimensiones variables\n",
        "\n",
        "Alelos: Como primera aproximación se consideran valores entre -10 y 10\n",
        "'''\n",
        "\n",
        "po\n",
        "\n",
        "# Creación de la población\n",
        "\n",
        "num_poblacion = 200\n",
        "\n",
        "for i in range(num_poblacion):\n"
      ],
      "execution_count": null,
      "outputs": []
    }
  ]
}