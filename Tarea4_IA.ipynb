{
  "nbformat": 4,
  "nbformat_minor": 0,
  "metadata": {
    "colab": {
      "name": "Tarea4_IA.ipynb",
      "provenance": [],
      "collapsed_sections": [],
      "authorship_tag": "ABX9TyNAsNijE2I5y9xDTHNUDoqV",
      "include_colab_link": true
    },
    "kernelspec": {
      "name": "python3",
      "display_name": "Python 3"
    },
    "language_info": {
      "name": "python"
    }
  },
  "cells": [
    {
      "cell_type": "markdown",
      "metadata": {
        "id": "view-in-github",
        "colab_type": "text"
      },
      "source": [
        "<a href=\"https://colab.research.google.com/github/celimo/Tarea4_IA/blob/main/Tarea4_IA.ipynb\" target=\"_parent\"><img src=\"https://colab.research.google.com/assets/colab-badge.svg\" alt=\"Open In Colab\"/></a>"
      ]
    },
    {
      "cell_type": "code",
      "metadata": {
        "colab": {
          "base_uri": "https://localhost:8080/"
        },
        "id": "lv0O5uc4cdLl",
        "outputId": "30a1165b-c5ec-46f4-ed60-de93e67e5033"
      },
      "source": [
        "pip install control"
      ],
      "execution_count": 1,
      "outputs": [
        {
          "output_type": "stream",
          "text": [
            "Requirement already satisfied: control in /usr/local/lib/python3.7/dist-packages (0.9.0)\n",
            "Requirement already satisfied: numpy in /usr/local/lib/python3.7/dist-packages (from control) (1.19.5)\n",
            "Requirement already satisfied: scipy in /usr/local/lib/python3.7/dist-packages (from control) (1.4.1)\n",
            "Requirement already satisfied: matplotlib in /usr/local/lib/python3.7/dist-packages (from control) (3.2.2)\n",
            "Requirement already satisfied: pyparsing!=2.0.4,!=2.1.2,!=2.1.6,>=2.0.1 in /usr/local/lib/python3.7/dist-packages (from matplotlib->control) (2.4.7)\n",
            "Requirement already satisfied: kiwisolver>=1.0.1 in /usr/local/lib/python3.7/dist-packages (from matplotlib->control) (1.3.1)\n",
            "Requirement already satisfied: python-dateutil>=2.1 in /usr/local/lib/python3.7/dist-packages (from matplotlib->control) (2.8.1)\n",
            "Requirement already satisfied: cycler>=0.10 in /usr/local/lib/python3.7/dist-packages (from matplotlib->control) (0.10.0)\n",
            "Requirement already satisfied: six>=1.5 in /usr/local/lib/python3.7/dist-packages (from python-dateutil>=2.1->matplotlib->control) (1.15.0)\n"
          ],
          "name": "stdout"
        }
      ]
    },
    {
      "cell_type": "code",
      "metadata": {
        "id": "OFHGzTO-pEpp"
      },
      "source": [
        "import control as co # Trabajar sistemas de control\n",
        "from control.matlab import * # Utilizar un entorno similar al de matlab\n",
        "import numpy as np # Trabajar con matrices\n",
        "import matplotlib.pyplot as plt # Imprimir resultados\n",
        "import random # Generar números aleatorios"
      ],
      "execution_count": 2,
      "outputs": []
    },
    {
      "cell_type": "code",
      "metadata": {
        "id": "3QuzKrZ0c2jr"
      },
      "source": [
        "\" Definición de la función de transferencia del sistema \"\n",
        "\n",
        "def fun_Tran(Inp):\n",
        "  s = tf('s')\n",
        "\n",
        "  A = Inp[0]\n",
        "  B = Inp[1]\n",
        "  C = Inp[2]\n",
        "  D2 = Inp[3][0]\n",
        "  F = Inp[4]\n",
        "  K = Inp[5]\n",
        "\n",
        "  G1 = (A[0]) / (B[0]*s**2 + B[0]*C[0]*s)\n",
        "  G2 = (A[1]*s) / (B[1]*s**2 + B[1]*C[1] + D2)\n",
        "  G3 = (A[2]*s**2 + A[2]*C[2]*s) / (B[2])\n",
        "\n",
        "  H1 = F[0]*K[0]*s + K[0]\n",
        "  H2 = F[1]*K[1]*s**2 + K[1]*s\n",
        "  H3 = K[2]*s \n",
        "\n",
        "  num = G1*G2*G3 + G1*H1*G3\n",
        "  den = 1 + G1*G2*G3 + G2*H2 + G2*H3 + H1*H3 + G1*H1*G3\n",
        "\n",
        "  funct = num/den\n",
        "\n",
        "  return funct"
      ],
      "execution_count": 3,
      "outputs": []
    },
    {
      "cell_type": "code",
      "metadata": {
        "colab": {
          "base_uri": "https://localhost:8080/",
          "height": 369
        },
        "id": "AdOSM9Xdo7b3",
        "outputId": "139904b6-9edf-4fe8-ae60-b7471612ef24"
      },
      "source": [
        "Cm = []\n",
        "\n",
        "Cm.append([1,2,3])\n",
        "Cm.append([4,5,6])\n",
        "Cm.append([7,8,9])\n",
        "Cm.append([10])\n",
        "Cm.append([11,12])\n",
        "Cm.append([13,14,15])\n",
        "\n",
        "sys = fun_Tran(Cm)\n",
        "\n",
        "print(sys)\n",
        "\n",
        "t = np.linspace(0, 200, 1000)\n",
        "t1, y1 = co.step_response(sys, t)\n",
        "\n",
        "plt.plot(t1, y1)\n",
        "plt.grid()\n",
        "plt.show()"
      ],
      "execution_count": 4,
      "outputs": [
        {
          "output_type": "stream",
          "text": [
            "\n",
            "         3.707e+09 s^17 + 1.115e+11 s^16 + 1.404e+12 s^15 + 1.075e+13 s^14 + 6.445e+13 s^13 + 3.195e+14 s^12 + 1.248e+15 s^11 + 4.261e+15 s^10 + 1.226e+16 s^9 + 2.69e+16 s^8 + 6.058e+16 s^7 + 6.706e+16 s^6 + 1.201e+17 s^5 + 1.04e+16 s^4\n",
            "------------------------------------------------------------------------------------------------------------------------------------------------------------------------------------------------------------------------------------------------------\n",
            "4.448e+11 s^18 + 1.251e+13 s^17 + 1.502e+14 s^16 + 1.128e+15 s^15 + 6.709e+15 s^14 + 3.271e+16 s^13 + 1.269e+17 s^12 + 4.308e+17 s^11 + 1.217e+18 s^10 + 2.699e+18 s^9 + 5.862e+18 s^8 + 6.708e+18 s^7 + 1.131e+19 s^6 + 1.094e+18 s^5 + 1.538e+16 s^4\n",
            "\n"
          ],
          "name": "stdout"
        },
        {
          "output_type": "display_data",
          "data": {
            "image/png": "[encoded data removed]",
            "text/plain": [
              "<Figure size 432x288 with 1 Axes>"
            ]
          },
          "metadata": {
            "tags": [],
            "needs_background": "light"
          }
        }
      ]
    },
    {
      "cell_type": "code",
      "metadata": {
        "colab": {
          "base_uri": "https://localhost:8080/"
        },
        "id": "TEcDYXm6pAfX",
        "outputId": "bb173dbf-75e9-49b8-9555-f3ccd1904cd5"
      },
      "source": [
        "'''\n",
        "Definición del cromosoma\n",
        "\n",
        "Cromosoma = [[A1, A2, A3], [B1, B2, B3], [C1, C2, C3], [D2], [F1, F2], [K1, K2, K3]]\n",
        "\n",
        "Definición del gen: Cada elemento del cromosoma es un vector con dimensiones variables\n",
        "\n",
        "Alelos: Como primera aproximación se consideran valores entre -10 y 10\n",
        "'''\n",
        "\n",
        "# Creación de la población\n",
        "\n",
        "def numero(a, b):\n",
        "  np.random.seed()\n",
        "  num = np.random.randint(a, b)\n",
        "  while num == 0:\n",
        "    num = np.random.randint(a, b)\n",
        "  return num\n",
        "\n",
        "num_poblacion = 100\n",
        "a = -10\n",
        "b = 10\n",
        "\n",
        "pob = []\n",
        "\n",
        "for i in range(num_poblacion):\n",
        "  cromo = []\n",
        "  # Ciclo para las letras A-B-C\n",
        "  for j in range(3):\n",
        "    temp = []\n",
        "    for k in range(3):\n",
        "      temp.append(numero(a, b))\n",
        "    cromo.append(temp)\n",
        "  cromo.append([numero(a, b)])\n",
        "  temp = []\n",
        "  for j in range(2):\n",
        "    temp.append(numero(a, b))\n",
        "  cromo.append(temp)\n",
        "  temp = []\n",
        "  for j in range(3):\n",
        "    temp.append(numero(a, b))\n",
        "  cromo.append(temp)\n",
        "\n",
        "  pob.append(cromo)\n",
        "\n",
        "pob = np.array(pob)"
      ],
      "execution_count": 23,
      "outputs": [
        {
          "output_type": "stream",
          "text": [
            "/usr/local/lib/python3.7/dist-packages/ipykernel_launcher.py:46: VisibleDeprecationWarning: Creating an ndarray from ragged nested sequences (which is a list-or-tuple of lists-or-tuples-or ndarrays with different lengths or shapes) is deprecated. If you meant to do this, you must specify 'dtype=object' when creating the ndarray\n"
          ],
          "name": "stderr"
        }
      ]
    },
    {
      "cell_type": "markdown",
      "metadata": {
        "id": "KRXsp5_lm9dY"
      },
      "source": [
        "## Función objetiva\n",
        "Lo primero y más importante es si el sistema es estable, ya que de otra forma no tiene sentido el análisis\n",
        "\n",
        "**Primer paso:** Obtener si el sistema es estable, de no serlo se asigna un valor de 1000 al error, este dato es aleatorio.\n",
        "\n",
        "**Si es estable:**\n",
        "Se obtiene el valor más alto de la respuesta al escalón unitario y se obtiene el índice de donde está. Una vez con el índice se obtiene el tiempo donde sucede ese sobreimpulso.\n",
        "\n",
        "**La función objetiva está definida por:**\n",
        "\n",
        "\\begin{equation}\n",
        "  f(\\delta, t) = |\\delta_r-\\delta|+|t_r-t|\n",
        "\\end{equation}\n",
        "\n",
        "Donde:\n",
        "\n",
        "$\\delta_r$: Sobreimpulso esperado\n",
        "\n",
        "$\\delta$: Sobreimpulso obtenido\n",
        "\n",
        "$t_r$: Tiempo real\n",
        "\n",
        "$t$: Tiempo obtenido\n",
        "\n",
        "La condición final se obtiene cuando el valor de la función sea cercano a cero. Por último, el análisis se va a realizar en el tiempo $t\\in[0,2]$ ya que el tiempo esperado es de 1 segundo."
      ]
    },
    {
      "cell_type": "code",
      "metadata": {
        "id": "EFVpt2wjH4M9"
      },
      "source": [
        "# Se obtienen las funciones de transferencia de todos los sistemas de la población\n",
        "def fun_system(pob):\n",
        "  funcion = []\n",
        "  for i in range(len(pob)):\n",
        "    funcion.append(fun_Tran(pob[i]))\n",
        "  return funcion"
      ],
      "execution_count": 6,
      "outputs": []
    },
    {
      "cell_type": "code",
      "metadata": {
        "id": "PBQI-_hDIbC_"
      },
      "source": [
        "# Espacio t a analizar\n",
        "t = np.linspace(0, 20, 1000)\n",
        "yr = 1.2 # Valor esperado del sobreimpulso\n",
        "tr = 1 # Tiempo del sobreimpulso\n",
        "\n",
        "# Se define la función objetiva\n",
        "def fun_obj(sys, yr, tr):\n",
        "  resul = []\n",
        "\n",
        "  for i in sys:\n",
        "    pol = pole(i)\n",
        "    cond = False\n",
        "    for j in pol:\n",
        "      if j.real > 1e-04:\n",
        "        cond = True\n",
        "        break\n",
        "    if cond:\n",
        "      resul.append(1000)\n",
        "    else:\n",
        "      te, ye = co.step_response(i, t)\n",
        "      index = np.where(ye == np.amax(ye))\n",
        "      resul.append(np.absolute(yr - ye[index]) + np.absolute(tr - te[index]))\n",
        "  \n",
        "  return resul"
      ],
      "execution_count": 36,
      "outputs": []
    },
    {
      "cell_type": "markdown",
      "metadata": {
        "id": "hq0l8bZJx95g"
      },
      "source": [
        "## Generar nueva población\n",
        "\n",
        "En la generación de la población se parte que el conjunto seleccionado es aleatorio y el subconjunto es un número par.\n",
        "\n",
        "La recombinación se va a realizar de forma aleatoria, en el cual se recombinan 3 genes como máximo de cada padre, donde se toman tres números enteros aleatorios comprendidos entre 0 y 5 de ahí se obtiene cual gen del cromosoma se edita.\n",
        "\n",
        "Ya que el gen es un vector también se debe seleccionar cúal componente del vector cambiar, para este caso se va a modificar solo un valor del vector en el gen, la posición de ese vector también se va a realizar de forma aleatoria."
      ]
    },
    {
      "cell_type": "code",
      "metadata": {
        "id": "-ncqN4T-sGgA"
      },
      "source": [
        "# Función para generar la nueva generación\n",
        "def newGeneration(padre):\n",
        "  np.random.seed() # Se crea la semilla para el aleatorio\n",
        "  gen = [] # Contiene los genes que van a ser modificados\n",
        "  # Se obtienen los genes a modificar, en este caso son 3\n",
        "  for i in range(3):\n",
        "    if i != 0: # Se asegura que no se repitan genes\n",
        "      cond = True\n",
        "      while cond:\n",
        "        temp = []\n",
        "        temp.append(np.random.randint(len(padre[0])))\n",
        "        num = np.random.randint(len(padre[0][temp[-1]]))\n",
        "        temp.append(num)\n",
        "        cond = False\n",
        "        for i in range(len(gen)):\n",
        "          if gen[i][0] == temp[0] and gen[i][1] == temp[1]:\n",
        "            cond = True\n",
        "    else: # Caso para el primer gen a modificar\n",
        "      temp = []\n",
        "      temp.append(np.random.randint(len(padre[0])))\n",
        "      num = np.random.randint(len(padre[0][temp[-1]]))\n",
        "      temp.append(num)\n",
        "    gen.append(temp)\n",
        "\n",
        "  gen = np.array(gen)\n",
        "  # Se crea el ciclo para recorrer los padres \n",
        "  for i in range(0, len(padre), 2):\n",
        "    for j in range(len(gen)):\n",
        "      temp = padre[i][gen[j][0]][gen[j][1]]\n",
        "      padre[i][gen[j][0]][gen[j][1]] = padre[i+1][gen[j][0]][gen[j][1]]\n",
        "      padre[i+1][gen[j][0]][gen[j][1]] = temp\n",
        "\n",
        "  return padre"
      ],
      "execution_count": 8,
      "outputs": []
    },
    {
      "cell_type": "markdown",
      "metadata": {
        "id": "2zhUkTsdKWYe"
      },
      "source": [
        "## Mutación de los hijos generados\n",
        "Para tener mayor variabilidad se va a realizar una mutación de los hijos generados"
      ]
    },
    {
      "cell_type": "code",
      "metadata": {
        "id": "1jTLiE4nKV9T"
      },
      "source": [
        "# Función para realizar la mutación de los hijos\n",
        "# hijos: Hijos generados a partir de los padres\n",
        "# porc: Porcentaje de los hijos para mutar\n",
        "def mutation(hijos, porc):\n",
        "  np.random.seed() # Se crea la semilla para el aleatorio\n",
        "  gen = [] # Contiene los genes que van a ser modificados\n",
        "  # Se obtienen los genes a modificar, en este caso son 3\n",
        "  for i in range(3):\n",
        "    if i != 0: # Se asegura que no se repitan genes\n",
        "      cond = True\n",
        "      while cond:\n",
        "        temp = []\n",
        "        temp.append(np.random.randint(len(hijos[0])))\n",
        "        num = np.random.randint(len(hijos[0][temp[-1]]))\n",
        "        temp.append(num)\n",
        "        cond = False\n",
        "        for i in range(len(gen)):\n",
        "          if gen[i][0] == temp[0] and gen[i][1] == temp[1]:\n",
        "            cond = True\n",
        "    else: # Caso para el primer gen a modificar\n",
        "      temp = []\n",
        "      temp.append(np.random.randint(len(hijos[0])))\n",
        "      num = np.random.randint(len(hijos[0][temp[-1]]))\n",
        "      temp.append(num)\n",
        "    gen.append(temp)\n",
        "\n",
        "  gen = np.array(gen)\n",
        "\n",
        "  # Se crea el ciclo para recorrer los hijos \n",
        "  for i in range(int(len(hijos)*porc)):\n",
        "    for j in range(len(gen)):\n",
        "      num = np.random.normal(hijos[i][gen[j][0]][gen[j][1]], 1)\n",
        "      if num < a:\n",
        "        num = a\n",
        "      elif num > b:\n",
        "        num = b\n",
        "      while num == 0:\n",
        "        num = np.random.normal(hijos[i][gen[j][0]][gen[j][1]], 1)\n",
        "      hijos[i][gen[j][0]][gen[j][1]] = num\n",
        "  \n",
        "  return hijos"
      ],
      "execution_count": 9,
      "outputs": []
    },
    {
      "cell_type": "markdown",
      "metadata": {
        "id": "9us-m04RIgVc"
      },
      "source": [
        "## Creación del torneo de selección\n",
        "Para el torneo se debe seleccionar la cantidad de individuos que van a combatir entre sí y a partir de esa selección se realiza el torneo hasta tener el total requerido."
      ]
    },
    {
      "cell_type": "code",
      "metadata": {
        "colab": {
          "base_uri": "https://localhost:8080/",
          "height": 128
        },
        "id": "R3dlMeIyI67O",
        "outputId": "9a64ca98-e5a6-4bc9-bbc2-b803895b28ad"
      },
      "source": [
        "# Función para realizar el torneo de la población\n",
        "# pob: Población\n",
        "# resul_FO: Resultado al realizar la función objetiva\n",
        "# cant: Cuantos individuos de la población participan por torneo, expresado en porcentaje\n",
        "def torneo(pob, resul_FO, cant):\n",
        "  # Se concatena la población con los resultados de la función objetiva\n",
        "  "
      ],
      "execution_count": 10,
      "outputs": [
        {
          "output_type": "error",
          "ename": "SyntaxError",
          "evalue": "ignored",
          "traceback": [
            "\u001b[0;36m  File \u001b[0;32m\"<ipython-input-10-a80abc747495>\"\u001b[0;36m, line \u001b[0;32m7\u001b[0m\n\u001b[0;31m    \u001b[0m\n\u001b[0m    ^\u001b[0m\n\u001b[0;31mSyntaxError\u001b[0m\u001b[0;31m:\u001b[0m unexpected EOF while parsing\n"
          ]
        }
      ]
    }
  ]
}